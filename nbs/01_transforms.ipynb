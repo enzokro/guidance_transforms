{
 "cells": [
  {
   "cell_type": "markdown",
   "id": "3f9b98de",
   "metadata": {},
   "source": [
    "# Guidance Transformation class to normalize and schedule Classifier-free Guidance."
   ]
  },
  {
   "cell_type": "code",
   "execution_count": null,
   "id": "74da4aff",
   "metadata": {},
   "outputs": [],
   "source": [
    "#|default_exp transforms"
   ]
  },
  {
   "cell_type": "markdown",
   "id": "eeda71c4",
   "metadata": {},
   "source": [
    "The following classes implement:  \n",
    "\n",
    "1. Baseline Classifier-free Guidance  \n",
    "2. Scaling the prediction by the ratio of norms  \n",
    "3. Scaling the `t - u` update by its norms  \n",
    "4. Scaling both 2. + 3."
   ]
  },
  {
   "cell_type": "code",
   "execution_count": null,
   "id": "13e0d322",
   "metadata": {},
   "outputs": [],
   "source": [
    "#|export\n",
    "\n",
    "'''Code for blog post:\n",
    "    https://enzokro.dev/blog/posts/2022-11-15-guidance-expts-1\n",
    "'''\n",
    "import math\n",
    "import torch\n"
   ]
  },
  {
   "cell_type": "code",
   "execution_count": null,
   "id": "6cea65ef",
   "metadata": {},
   "outputs": [],
   "source": [
    "#| export\n",
    "\n",
    "class GuidanceTfm:\n",
    "    \"Baseline Classifier-free Guidance for Difussion.\"\n",
    "    name = \"CFGuidance\"\n",
    "    def __init__(self, schedules, *args, **kwargs):\n",
    "        self.schedules = schedules\n",
    "        \n",
    "    def encode(self, u, t, idx=None):\n",
    "        \"Applies guidance on `u` and `t` with optional pre/post processing.\"\n",
    "        self.pre_proc(u, t, idx)\n",
    "        self.guide(u, t, idx)\n",
    "        self.post_proc(u, t, idx)\n",
    "        return self.pred\n",
    "    \n",
    "    def guide(self, u, t, idx=None):\n",
    "        \"Mixes latents `u` and `t` based on guidance schedule for `g`.\"\n",
    "        self.pred = u + (self.scheduler('g', idx) * (t - u))\n",
    "\n",
    "    def pre_proc (self, u, t, idx=None): pass\n",
    "    def post_proc(self, u, t, idx=None): pass\n",
    "    \n",
    "    def scheduler(self, name, idx):\n",
    "        \"Gets the scheduled value for parameter `name` at timestep `idx`.\"\n",
    "        return self.schedules.get(name)[idx]\n",
    "    \n",
    "    def __call__(self, *args, **kwargs):\n",
    "        return self.encode(*args, **kwargs)\n",
    "    \n",
    "    \n",
    "class BaseNormGuidance(GuidanceTfm):\n",
    "    \"Scales the noise prediction by its overall norm.\"\n",
    "    name = \"BaseNormGuidance\"\n",
    "    def post_proc(self, u, t, idx=None):\n",
    "        self.pred = self.pred * (torch.linalg.norm(u) / torch.linalg.norm(self.pred))\n",
    "        \n",
    "        \n",
    "class TNormGuidance(GuidanceTfm):\n",
    "    \"Scales the latent mix of `t - u`\"\n",
    "    name = \"TNormGuidance\"\n",
    "    def guide(self, u, t, idx=None):\n",
    "        self.pred = u + (self.scheduler('g', idx) * (t - u)) / torch.linalg.norm(t - u) * torch.linalg.norm(u)\n",
    "        \n",
    "        \n",
    "class FullNormGuidance(TNormGuidance, BaseNormGuidance):\n",
    "    \"Applies both Base and T-Norm on the noise prediction.\"\n",
    "    name = \"FullNormGuidance\"\n",
    "    pass"
   ]
  },
  {
   "cell_type": "code",
   "execution_count": null,
   "id": "9576b15c",
   "metadata": {},
   "outputs": [],
   "source": [
    "#| hide\n",
    "import nbdev; nbdev.nbdev_export()"
   ]
  }
 ],
 "metadata": {
  "kernelspec": {
   "display_name": "Python 3 (ipykernel)",
   "language": "python",
   "name": "python3"
  }
 },
 "nbformat": 4,
 "nbformat_minor": 5
}
